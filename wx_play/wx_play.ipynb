{
 "cells": [
  {
   "cell_type": "code",
   "execution_count": 1,
   "metadata": {},
   "outputs": [
    {
     "name": "stdout",
     "output_type": "stream",
     "text": [
      "█\r"
     ]
    }
   ],
   "source": [
    "from wxpy import *"
   ]
  },
  {
   "cell_type": "code",
   "execution_count": 2,
   "metadata": {},
   "outputs": [
    {
     "name": "stderr",
     "output_type": "stream",
     "text": [
      "Getting uuid of QR code.\n",
      "Downloading QR code.\n",
      "Please scan the QR code to log in.\n",
      "Please press confirm on your phone.\n",
      "Loading the contact, this may take a little while.\n",
      "Login successfully as 許凯旋\n"
     ]
    }
   ],
   "source": [
    "bot=Bot()"
   ]
  },
  {
   "cell_type": "code",
   "execution_count": 3,
   "metadata": {},
   "outputs": [
    {
     "name": "stdout",
     "output_type": "stream",
     "text": [
      "{'male': 299, 'female': 105}\n"
     ]
    }
   ],
   "source": [
    "my_friends=bot.friends()\n",
    "sex_dict={'male':0,'female':0}\n",
    "for friend in my_friends:\n",
    "    if friend.sex==1:\n",
    "        sex_dict['male']+=1\n",
    "    elif friend.sex==2:\n",
    "        sex_dict['female']+=1\n",
    "print(sex_dict)"
   ]
  },
  {
   "cell_type": "code",
   "execution_count": 4,
   "metadata": {},
   "outputs": [
    {
     "name": "stdout",
     "output_type": "stream",
     "text": [
      "[{'name': '北京', 'value': 15}, {'name': '上海', 'value': 75}, {'name': '天津', 'value': 3}, {'name': '重庆', 'value': 2}, {'name': '河北', 'value': 2}, {'name': '山西', 'value': 0}, {'name': '吉林', 'value': 2}, {'name': '辽宁', 'value': 5}, {'name': '黑龙江', 'value': 3}, {'name': '陕西', 'value': 3}, {'name': '甘肃', 'value': 1}, {'name': '青海', 'value': 0}, {'name': '山东', 'value': 8}, {'name': '福建', 'value': 2}, {'name': '浙江', 'value': 48}, {'name': '台湾', 'value': 0}, {'name': '河南', 'value': 2}, {'name': '湖北', 'value': 3}, {'name': '湖南', 'value': 6}, {'name': '江西', 'value': 2}, {'name': '江苏', 'value': 69}, {'name': '安徽', 'value': 51}, {'name': '广东', 'value': 16}, {'name': '海南', 'value': 0}, {'name': '四川', 'value': 7}, {'name': '贵州', 'value': 0}, {'name': '云南', 'value': 0}, {'name': '内蒙古', 'value': 0}, {'name': '新疆', 'value': 0}, {'name': '宁夏', 'value': 0}, {'name': '广西', 'value': 1}, {'name': '西藏', 'value': 1}, {'name': '香港', 'value': 1}, {'name': '澳门', 'value': 1}]\n"
     ]
    }
   ],
   "source": [
    "# 使用一个字典统计各省好友数量\n",
    "province_dict = {'北京': 0, '上海': 0, '天津': 0, '重庆': 0,\n",
    "    '河北': 0, '山西': 0, '吉林': 0, '辽宁': 0, '黑龙江': 0,\n",
    "    '陕西': 0, '甘肃': 0, '青海': 0, '山东': 0, '福建': 0,\n",
    "    '浙江': 0, '台湾': 0, '河南': 0, '湖北': 0, '湖南': 0,\n",
    "    '江西': 0, '江苏': 0, '安徽': 0, '广东': 0, '海南': 0,\n",
    "    '四川': 0, '贵州': 0, '云南': 0,\n",
    "    '内蒙古': 0, '新疆': 0, '宁夏': 0, '广西': 0, '西藏': 0,\n",
    "    '香港': 0, '澳门': 0}\n",
    "\n",
    "# 统计省份\n",
    "for friend in my_friends:\n",
    "    if friend.province in province_dict.keys():\n",
    "        province_dict[friend.province] += 1\n",
    "\n",
    "# 为了方便数据的呈现，生成JSON Array格式数据\n",
    "data = []\n",
    "for key, value in province_dict.items():\n",
    "    data.append({'name': key, 'value': value})\n",
    "\n",
    "print(data)"
   ]
  },
  {
   "cell_type": "code",
   "execution_count": 28,
   "metadata": {},
   "outputs": [],
   "source": [
    "import re\n",
    "def write_txt_file(path, txt):\n",
    "    '''\n",
    "    写入txt文本\n",
    "    '''\n",
    "    with open(path, 'a', encoding='utf-8', newline='') as f:\n",
    "        f.write(txt+'\\n')    \n",
    "\n",
    "# 统计签名\n",
    "for friend in my_friends:\n",
    "    # 对数据进行清洗，将标点符号等对词频统计造成影响的因素剔除\n",
    "    pattern = re.compile(r'[一-龥]+')\n",
    "    filterdata = re.findall(pattern, friend.signature)\n",
    "    write_txt_file('signatures.txt', ''.join(filterdata))"
   ]
  },
  {
   "cell_type": "code",
   "execution_count": 14,
   "metadata": {},
   "outputs": [],
   "source": [
    "def read_txt_file(path):\n",
    "    '''\n",
    "    读取txt文本\n",
    "    '''\n",
    "    with open(path, 'r', encoding='utf-8', newline='') as f:\n",
    "        return f.read()"
   ]
  },
  {
   "cell_type": "code",
   "execution_count": 18,
   "metadata": {},
   "outputs": [],
   "source": [
    "import jieba\n",
    "import numpy\n",
    "import pandas as pd\n",
    "import wordcloud\n",
    "import scipy"
   ]
  },
  {
   "cell_type": "code",
   "execution_count": 29,
   "metadata": {},
   "outputs": [],
   "source": [
    "content = read_txt_file('signatures.txt')\n",
    "segment = jieba.lcut(content)\n",
    "words_df=pd.DataFrame({'segment':segment})\n",
    "\n",
    "stopwords=pd.read_csv(\"stopwords.txt\",index_col=False,quoting=3,sep=\" \",names=['stopword'],encoding='gb18030')\n",
    "words_df=words_df[~words_df.segment.isin(stopwords.stopword)]"
   ]
  },
  {
   "cell_type": "code",
   "execution_count": 30,
   "metadata": {},
   "outputs": [
    {
     "name": "stderr",
     "output_type": "stream",
     "text": [
      "c:\\python3\\lib\\site-packages\\ipykernel_launcher.py:4: FutureWarning: using a dict on a Series for aggregation\n",
      "is deprecated and will be removed in a future version\n",
      "  after removing the cwd from sys.path.\n"
     ]
    }
   ],
   "source": [
    "#词频统计\n",
    "import numpy\n",
    "\n",
    "words_stat = words_df.groupby(by=['segment'])['segment'].agg({\"计数\":numpy.size})\n",
    "words_stat = words_stat.reset_index().sort_values(by=[\"计数\"],ascending=False)"
   ]
  },
  {
   "cell_type": "code",
   "execution_count": 25,
   "metadata": {},
   "outputs": [],
   "source": [
    "\n",
    "import matplotlib.pyplot as plt"
   ]
  },
  {
   "cell_type": "code",
   "execution_count": 32,
   "metadata": {},
   "outputs": [
    {
     "name": "stderr",
     "output_type": "stream",
     "text": [
      "c:\\python3\\lib\\site-packages\\ipykernel_launcher.py:6: DeprecationWarning: `imread` is deprecated!\n",
      "`imread` is deprecated in SciPy 1.0.0, and will be removed in 1.2.0.\n",
      "Use ``imageio.imread`` instead.\n",
      "  \n"
     ]
    },
    {
     "name": "stdout",
     "output_type": "stream",
     "text": [
      "{'\\n': 428, '一个': 9, '爱': 8, '人生': 8, '好': 7, '生活': 7, '世界': 6, '努力': 5, '路': 5, '想': 5, '不知': 5, '事': 5, '岁月': 4, '喜欢': 4, '时间': 4, '请': 4, '到底': 3, '朋友圈': 3, '不由': 3, '走': 3, '路上': 3, '生命': 3, '自然': 3, '否': 3, '吾': 3, '读书': 3, '幻想': 3, '幸福': 3, '回头': 3, '工作': 3, '越': 3, '向前走': 2, '轻松': 2, '告诉': 2, '怨': 2, '情': 2, '盛开': 2, '亦': 2, '快乐': 2, '完美': 2, '唯有': 2, '真': 2, '脚步': 2, '号': 2, '没': 2, '年华': 2, '屏蔽': 2, '温柔': 2, '希望': 2, '加油': 2, '平凡': 2, '行': 2, '无': 2, '苦': 2, '自强不息': 2, '天下': 2, '深情': 2, '舍得': 2, '厚德载物': 2, '自来': 2, '微信': 2, '愿': 2, '珍惜': 2, '一条': 2, '梦想': 2, '明日': 2, '更好': 2, '梦': 2, '陪': 2, '晚上': 2, '旧': 2, '签名': 2, '青春': 2, '手': 2, '妥协': 2, '敬畏': 2, '奔跑': 2, '长大': 2, '暂时': 2, '终老': 2, '日子': 2, '回答': 2, '一步': 2, '痛苦': 2, '知行合一': 2, '一花': 2, '懂': 2, '放': 2, '收到': 2, '控制': 2, '懒': 2, '略': 1, '留在': 1, '爱笑': 1, '皮皮': 1, '爱着': 1, '熊': 1, '潜龙勿用': 1, '疼': 1, '灯具': 1}\n"
     ]
    },
    {
     "data": {
      "image/png": "[encoded data removed]",
      "text/plain": [
       "<Figure size 432x288 with 1 Axes>"
      ]
     },
     "metadata": {
      "needs_background": "light"
     },
     "output_type": "display_data"
    }
   ],
   "source": [
    "from scipy.misc import imread\n",
    "from wordcloud import WordCloud, ImageColorGenerator\n",
    "\n",
    "\n",
    "# 设置词云属性\n",
    "color_mask = imread('lq.jpg')\n",
    "wordcloud = WordCloud(font_path=\"simhei.ttf\",   # 设置字体可以显示中文\n",
    "                background_color=\"white\",       # 背景颜色\n",
    "                max_words=100,                  # 词云显示的最大词数\n",
    "                mask=color_mask,                # 设置背景图片\n",
    "                max_font_size=100,              # 字体最大值\n",
    "                random_state=42,\n",
    "                width=1000, height=860, margin=2,# 设置图片默认的大小,但是如果使用背景图片的话,                                                   # 那么保存的图片大小将会按照其大小保存,margin为词语边缘距离\n",
    "                )\n",
    "\n",
    "# 生成词云, 可以用generate输入全部文本,也可以我们计算好词频后使用generate_from_frequencies函数\n",
    "word_frequence = {x[0]:x[1]for x in words_stat.head(100).values}\n",
    "print(word_frequence)\n",
    "word_frequence_dict = {}\n",
    "for key in word_frequence:\n",
    "    word_frequence_dict[key] = word_frequence[key]\n",
    "\n",
    "wordcloud.generate_from_frequencies(word_frequence_dict)\n",
    "# 从背景图片生成颜色值  \n",
    "image_colors = ImageColorGenerator(color_mask) \n",
    "# 重新上色\n",
    "wordcloud.recolor(color_func=image_colors)\n",
    "# 保存图片\n",
    "wordcloud.to_file('output.png')\n",
    "plt.imshow(wordcloud)\n",
    "plt.axis(\"off\")\n",
    "plt.show()"
   ]
  },
  {
   "cell_type": "code",
   "execution_count": null,
   "metadata": {},
   "outputs": [],
   "source": []
  }
 ],
 "metadata": {
  "kernelspec": {
   "display_name": "Python 3",
   "language": "python",
   "name": "python3"
  },
  "language_info": {
   "codemirror_mode": {
    "name": "ipython",
    "version": 3
   },
   "file_extension": ".py",
   "mimetype": "text/x-python",
   "name": "python",
   "nbconvert_exporter": "python",
   "pygments_lexer": "ipython3",
   "version": "3.6.3"
  }
 },
 "nbformat": 4,
 "nbformat_minor": 2
}
